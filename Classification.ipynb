{
 "cells": [
  {
   "cell_type": "markdown",
   "metadata": {},
   "source": [
    "Целью этого ноутбука является оценка аккуратности между Random Forest, Bagging Classifier, Logistic Regression и GridSearchCV"
   ]
  },
  {
   "cell_type": "code",
   "execution_count": 1,
   "metadata": {},
   "outputs": [],
   "source": [
    "import pandas as pd\n",
    "import numpy as np\n",
    "import seaborn as sns\n",
    "from sklearn.model_selection import train_test_split"
   ]
  },
  {
   "cell_type": "code",
   "execution_count": 2,
   "metadata": {},
   "outputs": [
    {
     "data": {
      "text/html": [
       "<div>\n",
       "<style scoped>\n",
       "    .dataframe tbody tr th:only-of-type {\n",
       "        vertical-align: middle;\n",
       "    }\n",
       "\n",
       "    .dataframe tbody tr th {\n",
       "        vertical-align: top;\n",
       "    }\n",
       "\n",
       "    .dataframe thead th {\n",
       "        text-align: right;\n",
       "    }\n",
       "</style>\n",
       "<table border=\"1\" class=\"dataframe\">\n",
       "  <thead>\n",
       "    <tr style=\"text-align: right;\">\n",
       "      <th></th>\n",
       "      <th>var1</th>\n",
       "      <th>var2</th>\n",
       "      <th>var3</th>\n",
       "      <th>var4</th>\n",
       "      <th>var5</th>\n",
       "      <th>var6</th>\n",
       "      <th>var7</th>\n",
       "      <th>var8</th>\n",
       "      <th>var9</th>\n",
       "      <th>var10</th>\n",
       "      <th>...</th>\n",
       "      <th>var22</th>\n",
       "      <th>var23</th>\n",
       "      <th>var24</th>\n",
       "      <th>var25</th>\n",
       "      <th>var26</th>\n",
       "      <th>var27</th>\n",
       "      <th>var28</th>\n",
       "      <th>var29</th>\n",
       "      <th>var30</th>\n",
       "      <th>target</th>\n",
       "    </tr>\n",
       "  </thead>\n",
       "  <tbody>\n",
       "    <tr>\n",
       "      <th>0</th>\n",
       "      <td>-2.177011</td>\n",
       "      <td>-6.226248</td>\n",
       "      <td>-4.180724</td>\n",
       "      <td>-0.301575</td>\n",
       "      <td>0.312956</td>\n",
       "      <td>2.072484</td>\n",
       "      <td>-0.431621</td>\n",
       "      <td>11.231389</td>\n",
       "      <td>2.647677</td>\n",
       "      <td>-1.255365</td>\n",
       "      <td>...</td>\n",
       "      <td>-2.177011</td>\n",
       "      <td>7.461246</td>\n",
       "      <td>2.547404</td>\n",
       "      <td>-4.967362</td>\n",
       "      <td>1.907483</td>\n",
       "      <td>1.692546</td>\n",
       "      <td>-3.468058</td>\n",
       "      <td>-8.705446</td>\n",
       "      <td>-1.128374</td>\n",
       "      <td>0</td>\n",
       "    </tr>\n",
       "    <tr>\n",
       "      <th>1</th>\n",
       "      <td>-2.091911</td>\n",
       "      <td>-6.166519</td>\n",
       "      <td>2.630665</td>\n",
       "      <td>-2.710098</td>\n",
       "      <td>-6.709456</td>\n",
       "      <td>-9.957898</td>\n",
       "      <td>1.572536</td>\n",
       "      <td>-3.160593</td>\n",
       "      <td>0.800949</td>\n",
       "      <td>-1.731416</td>\n",
       "      <td>...</td>\n",
       "      <td>-2.091911</td>\n",
       "      <td>-1.825861</td>\n",
       "      <td>-1.357695</td>\n",
       "      <td>3.462102</td>\n",
       "      <td>-0.292048</td>\n",
       "      <td>-1.820714</td>\n",
       "      <td>-4.606010</td>\n",
       "      <td>8.642310</td>\n",
       "      <td>-1.561423</td>\n",
       "      <td>1</td>\n",
       "    </tr>\n",
       "    <tr>\n",
       "      <th>2</th>\n",
       "      <td>2.371305</td>\n",
       "      <td>17.347923</td>\n",
       "      <td>-1.361822</td>\n",
       "      <td>0.129764</td>\n",
       "      <td>0.006112</td>\n",
       "      <td>3.565529</td>\n",
       "      <td>-0.048206</td>\n",
       "      <td>1.842185</td>\n",
       "      <td>-2.963972</td>\n",
       "      <td>0.629045</td>\n",
       "      <td>...</td>\n",
       "      <td>2.371305</td>\n",
       "      <td>-4.719132</td>\n",
       "      <td>-1.798156</td>\n",
       "      <td>-0.254512</td>\n",
       "      <td>-7.593664</td>\n",
       "      <td>0.170942</td>\n",
       "      <td>-1.080999</td>\n",
       "      <td>1.496065</td>\n",
       "      <td>2.593735</td>\n",
       "      <td>0</td>\n",
       "    </tr>\n",
       "    <tr>\n",
       "      <th>3</th>\n",
       "      <td>0.190427</td>\n",
       "      <td>-3.864422</td>\n",
       "      <td>-1.502271</td>\n",
       "      <td>0.523183</td>\n",
       "      <td>-1.767517</td>\n",
       "      <td>-2.963652</td>\n",
       "      <td>1.307273</td>\n",
       "      <td>3.199642</td>\n",
       "      <td>0.182576</td>\n",
       "      <td>-1.424840</td>\n",
       "      <td>...</td>\n",
       "      <td>0.190427</td>\n",
       "      <td>1.670265</td>\n",
       "      <td>0.115206</td>\n",
       "      <td>-1.048627</td>\n",
       "      <td>-4.164541</td>\n",
       "      <td>-0.088675</td>\n",
       "      <td>-3.645926</td>\n",
       "      <td>-2.236702</td>\n",
       "      <td>1.605658</td>\n",
       "      <td>0</td>\n",
       "    </tr>\n",
       "    <tr>\n",
       "      <th>4</th>\n",
       "      <td>-1.137822</td>\n",
       "      <td>6.357994</td>\n",
       "      <td>1.355599</td>\n",
       "      <td>6.443955</td>\n",
       "      <td>0.199483</td>\n",
       "      <td>-1.264720</td>\n",
       "      <td>0.093690</td>\n",
       "      <td>-2.481635</td>\n",
       "      <td>-0.559349</td>\n",
       "      <td>4.330649</td>\n",
       "      <td>...</td>\n",
       "      <td>-1.137822</td>\n",
       "      <td>-0.805009</td>\n",
       "      <td>-0.307193</td>\n",
       "      <td>1.307138</td>\n",
       "      <td>-1.717511</td>\n",
       "      <td>-2.829551</td>\n",
       "      <td>3.006860</td>\n",
       "      <td>2.654826</td>\n",
       "      <td>1.541139</td>\n",
       "      <td>0</td>\n",
       "    </tr>\n",
       "    <tr>\n",
       "      <th>...</th>\n",
       "      <td>...</td>\n",
       "      <td>...</td>\n",
       "      <td>...</td>\n",
       "      <td>...</td>\n",
       "      <td>...</td>\n",
       "      <td>...</td>\n",
       "      <td>...</td>\n",
       "      <td>...</td>\n",
       "      <td>...</td>\n",
       "      <td>...</td>\n",
       "      <td>...</td>\n",
       "      <td>...</td>\n",
       "      <td>...</td>\n",
       "      <td>...</td>\n",
       "      <td>...</td>\n",
       "      <td>...</td>\n",
       "      <td>...</td>\n",
       "      <td>...</td>\n",
       "      <td>...</td>\n",
       "      <td>...</td>\n",
       "      <td>...</td>\n",
       "    </tr>\n",
       "    <tr>\n",
       "      <th>9995</th>\n",
       "      <td>1.620836</td>\n",
       "      <td>-16.245808</td>\n",
       "      <td>2.323674</td>\n",
       "      <td>-0.910919</td>\n",
       "      <td>-0.353660</td>\n",
       "      <td>-1.947537</td>\n",
       "      <td>-3.982077</td>\n",
       "      <td>-5.020685</td>\n",
       "      <td>-0.157834</td>\n",
       "      <td>-3.028431</td>\n",
       "      <td>...</td>\n",
       "      <td>1.620836</td>\n",
       "      <td>1.245004</td>\n",
       "      <td>8.247152</td>\n",
       "      <td>1.092744</td>\n",
       "      <td>-1.389045</td>\n",
       "      <td>-0.079517</td>\n",
       "      <td>-2.858944</td>\n",
       "      <td>-8.967773</td>\n",
       "      <td>-1.471256</td>\n",
       "      <td>0</td>\n",
       "    </tr>\n",
       "    <tr>\n",
       "      <th>9996</th>\n",
       "      <td>-8.159380</td>\n",
       "      <td>-5.047999</td>\n",
       "      <td>2.214764</td>\n",
       "      <td>2.858634</td>\n",
       "      <td>3.109798</td>\n",
       "      <td>-4.706632</td>\n",
       "      <td>-0.546738</td>\n",
       "      <td>0.717950</td>\n",
       "      <td>-6.590691</td>\n",
       "      <td>6.158009</td>\n",
       "      <td>...</td>\n",
       "      <td>-8.159380</td>\n",
       "      <td>0.938109</td>\n",
       "      <td>6.352646</td>\n",
       "      <td>3.781377</td>\n",
       "      <td>-0.262102</td>\n",
       "      <td>-6.253139</td>\n",
       "      <td>1.563752</td>\n",
       "      <td>5.986577</td>\n",
       "      <td>2.238687</td>\n",
       "      <td>1</td>\n",
       "    </tr>\n",
       "    <tr>\n",
       "      <th>9997</th>\n",
       "      <td>3.424219</td>\n",
       "      <td>-2.326776</td>\n",
       "      <td>-1.598385</td>\n",
       "      <td>-2.941375</td>\n",
       "      <td>2.183227</td>\n",
       "      <td>-1.950533</td>\n",
       "      <td>-0.189914</td>\n",
       "      <td>-2.489908</td>\n",
       "      <td>4.524820</td>\n",
       "      <td>-2.998698</td>\n",
       "      <td>...</td>\n",
       "      <td>3.424219</td>\n",
       "      <td>-1.098693</td>\n",
       "      <td>3.526093</td>\n",
       "      <td>-1.715303</td>\n",
       "      <td>-3.068697</td>\n",
       "      <td>0.953151</td>\n",
       "      <td>0.220796</td>\n",
       "      <td>-6.875321</td>\n",
       "      <td>0.281587</td>\n",
       "      <td>0</td>\n",
       "    </tr>\n",
       "    <tr>\n",
       "      <th>9998</th>\n",
       "      <td>-3.539954</td>\n",
       "      <td>4.259795</td>\n",
       "      <td>1.653303</td>\n",
       "      <td>0.741770</td>\n",
       "      <td>4.491919</td>\n",
       "      <td>-0.678428</td>\n",
       "      <td>-4.440003</td>\n",
       "      <td>3.304191</td>\n",
       "      <td>2.337895</td>\n",
       "      <td>5.672773</td>\n",
       "      <td>...</td>\n",
       "      <td>-3.539954</td>\n",
       "      <td>1.705185</td>\n",
       "      <td>-0.652470</td>\n",
       "      <td>-1.586657</td>\n",
       "      <td>-4.192403</td>\n",
       "      <td>-1.352035</td>\n",
       "      <td>3.576034</td>\n",
       "      <td>-2.120205</td>\n",
       "      <td>1.047834</td>\n",
       "      <td>1</td>\n",
       "    </tr>\n",
       "    <tr>\n",
       "      <th>9999</th>\n",
       "      <td>2.756434</td>\n",
       "      <td>-1.072930</td>\n",
       "      <td>-1.300910</td>\n",
       "      <td>-3.272290</td>\n",
       "      <td>-0.227731</td>\n",
       "      <td>-1.365032</td>\n",
       "      <td>-0.081068</td>\n",
       "      <td>-10.483840</td>\n",
       "      <td>1.052603</td>\n",
       "      <td>-4.015882</td>\n",
       "      <td>...</td>\n",
       "      <td>2.756434</td>\n",
       "      <td>-3.167196</td>\n",
       "      <td>2.007710</td>\n",
       "      <td>1.519457</td>\n",
       "      <td>1.012346</td>\n",
       "      <td>1.264444</td>\n",
       "      <td>1.392086</td>\n",
       "      <td>-5.322124</td>\n",
       "      <td>-0.210554</td>\n",
       "      <td>0</td>\n",
       "    </tr>\n",
       "  </tbody>\n",
       "</table>\n",
       "<p>10000 rows × 31 columns</p>\n",
       "</div>"
      ],
      "text/plain": [
       "          var1       var2      var3      var4      var5      var6      var7  \\\n",
       "0    -2.177011  -6.226248 -4.180724 -0.301575  0.312956  2.072484 -0.431621   \n",
       "1    -2.091911  -6.166519  2.630665 -2.710098 -6.709456 -9.957898  1.572536   \n",
       "2     2.371305  17.347923 -1.361822  0.129764  0.006112  3.565529 -0.048206   \n",
       "3     0.190427  -3.864422 -1.502271  0.523183 -1.767517 -2.963652  1.307273   \n",
       "4    -1.137822   6.357994  1.355599  6.443955  0.199483 -1.264720  0.093690   \n",
       "...        ...        ...       ...       ...       ...       ...       ...   \n",
       "9995  1.620836 -16.245808  2.323674 -0.910919 -0.353660 -1.947537 -3.982077   \n",
       "9996 -8.159380  -5.047999  2.214764  2.858634  3.109798 -4.706632 -0.546738   \n",
       "9997  3.424219  -2.326776 -1.598385 -2.941375  2.183227 -1.950533 -0.189914   \n",
       "9998 -3.539954   4.259795  1.653303  0.741770  4.491919 -0.678428 -4.440003   \n",
       "9999  2.756434  -1.072930 -1.300910 -3.272290 -0.227731 -1.365032 -0.081068   \n",
       "\n",
       "           var8      var9     var10  ...     var22     var23     var24  \\\n",
       "0     11.231389  2.647677 -1.255365  ... -2.177011  7.461246  2.547404   \n",
       "1     -3.160593  0.800949 -1.731416  ... -2.091911 -1.825861 -1.357695   \n",
       "2      1.842185 -2.963972  0.629045  ...  2.371305 -4.719132 -1.798156   \n",
       "3      3.199642  0.182576 -1.424840  ...  0.190427  1.670265  0.115206   \n",
       "4     -2.481635 -0.559349  4.330649  ... -1.137822 -0.805009 -0.307193   \n",
       "...         ...       ...       ...  ...       ...       ...       ...   \n",
       "9995  -5.020685 -0.157834 -3.028431  ...  1.620836  1.245004  8.247152   \n",
       "9996   0.717950 -6.590691  6.158009  ... -8.159380  0.938109  6.352646   \n",
       "9997  -2.489908  4.524820 -2.998698  ...  3.424219 -1.098693  3.526093   \n",
       "9998   3.304191  2.337895  5.672773  ... -3.539954  1.705185 -0.652470   \n",
       "9999 -10.483840  1.052603 -4.015882  ...  2.756434 -3.167196  2.007710   \n",
       "\n",
       "         var25     var26     var27     var28     var29     var30  target  \n",
       "0    -4.967362  1.907483  1.692546 -3.468058 -8.705446 -1.128374       0  \n",
       "1     3.462102 -0.292048 -1.820714 -4.606010  8.642310 -1.561423       1  \n",
       "2    -0.254512 -7.593664  0.170942 -1.080999  1.496065  2.593735       0  \n",
       "3    -1.048627 -4.164541 -0.088675 -3.645926 -2.236702  1.605658       0  \n",
       "4     1.307138 -1.717511 -2.829551  3.006860  2.654826  1.541139       0  \n",
       "...        ...       ...       ...       ...       ...       ...     ...  \n",
       "9995  1.092744 -1.389045 -0.079517 -2.858944 -8.967773 -1.471256       0  \n",
       "9996  3.781377 -0.262102 -6.253139  1.563752  5.986577  2.238687       1  \n",
       "9997 -1.715303 -3.068697  0.953151  0.220796 -6.875321  0.281587       0  \n",
       "9998 -1.586657 -4.192403 -1.352035  3.576034 -2.120205  1.047834       1  \n",
       "9999  1.519457  1.012346  1.264444  1.392086 -5.322124 -0.210554       0  \n",
       "\n",
       "[10000 rows x 31 columns]"
      ]
     },
     "execution_count": 2,
     "metadata": {},
     "output_type": "execute_result"
    }
   ],
   "source": [
    "df=pd.read_excel('unknown_dataset.xlsx')\n",
    "df"
   ]
  },
  {
   "cell_type": "code",
   "execution_count": 3,
   "metadata": {},
   "outputs": [
    {
     "data": {
      "text/plain": [
       "<AxesSubplot:>"
      ]
     },
     "execution_count": 3,
     "metadata": {},
     "output_type": "execute_result"
    },
    {
     "data": {
      "image/png": "[encoded data removed]",
      "text/plain": [
       "<Figure size 432x288 with 2 Axes>"
      ]
     },
     "metadata": {
      "needs_background": "light"
     },
     "output_type": "display_data"
    }
   ],
   "source": [
    "#просмотр корреляции между переменными\n",
    "sns.heatmap(df.corr())"
   ]
  },
  {
   "cell_type": "code",
   "execution_count": 4,
   "metadata": {},
   "outputs": [],
   "source": [
    "#так как у var1 есть корреляция с другими переменными, она будет удалена\n",
    "df.drop('var1',axis=1,inplace=True)"
   ]
  },
  {
   "cell_type": "code",
   "execution_count": 5,
   "metadata": {},
   "outputs": [],
   "source": [
    "df_train,df_test=train_test_split(df,test_size=0.3)\n",
    "X_train=df_train.drop('target',axis=1)\n",
    "y_train=df_train.target\n",
    "X=X_train.copy()\n",
    "y=y_train.copy()"
   ]
  },
  {
   "cell_type": "code",
   "execution_count": 6,
   "metadata": {},
   "outputs": [
    {
     "name": "stdout",
     "output_type": "stream",
     "text": [
      "Column: var2, Selected=False, Rank: 16\n",
      "Column: var3, Selected=True, Rank: 1\n",
      "Column: var4, Selected=False, Rank: 5\n",
      "Column: var5, Selected=False, Rank: 10\n",
      "Column: var6, Selected=False, Rank: 9\n",
      "Column: var7, Selected=False, Rank: 3\n",
      "Column: var8, Selected=False, Rank: 15\n",
      "Column: var9, Selected=False, Rank: 4\n",
      "Column: var10, Selected=True, Rank: 1\n",
      "Column: var11, Selected=False, Rank: 19\n",
      "Column: var12, Selected=True, Rank: 1\n",
      "Column: var13, Selected=True, Rank: 1\n",
      "Column: var14, Selected=True, Rank: 1\n",
      "Column: var15, Selected=False, Rank: 11\n",
      "Column: var16, Selected=False, Rank: 17\n",
      "Column: var17, Selected=True, Rank: 1\n",
      "Column: var18, Selected=True, Rank: 1\n",
      "Column: var19, Selected=False, Rank: 18\n",
      "Column: var20, Selected=False, Rank: 13\n",
      "Column: var21, Selected=False, Rank: 8\n",
      "Column: var22, Selected=True, Rank: 1\n",
      "Column: var23, Selected=False, Rank: 12\n",
      "Column: var24, Selected=False, Rank: 14\n",
      "Column: var25, Selected=False, Rank: 7\n",
      "Column: var26, Selected=False, Rank: 6\n",
      "Column: var27, Selected=True, Rank: 1\n",
      "Column: var28, Selected=True, Rank: 1\n",
      "Column: var29, Selected=False, Rank: 20\n",
      "Column: var30, Selected=False, Rank: 2\n"
     ]
    }
   ],
   "source": [
    "from sklearn.datasets import make_classification\n",
    "from sklearn.feature_selection import RFE\n",
    "from sklearn.tree import DecisionTreeClassifier\n",
    "\n",
    "#определение значимых переменных с помощю RFE\n",
    "rfe = RFE(estimator=DecisionTreeClassifier(), n_features_to_select=10)\n",
    "rfe.fit(X_train, y_train)\n",
    "for i in range(X_train.shape[1]):\n",
    "     print('Column: %s, Selected=%s, Rank: %d' % (X_train.columns[i], rfe.support_[i], rfe.ranking_[i]))\n",
    "X_train_new=X_train[X_train.columns[rfe.support_]]"
   ]
  },
  {
   "cell_type": "code",
   "execution_count": 7,
   "metadata": {},
   "outputs": [
    {
     "data": {
      "text/plain": [
       "Index(['var3', 'var10', 'var12', 'var13', 'var14', 'var17', 'var18', 'var22',\n",
       "       'var27', 'var28'],\n",
       "      dtype='object')"
      ]
     },
     "execution_count": 7,
     "metadata": {},
     "output_type": "execute_result"
    }
   ],
   "source": [
    "X_train_new.columns"
   ]
  },
  {
   "cell_type": "code",
   "execution_count": 8,
   "metadata": {},
   "outputs": [
    {
     "data": {
      "text/plain": [
       "RandomForestClassifier()"
      ]
     },
     "execution_count": 8,
     "metadata": {},
     "output_type": "execute_result"
    }
   ],
   "source": [
    "from sklearn.ensemble import RandomForestClassifier\n",
    "from sklearn.metrics import roc_auc_score\n",
    "model_tree = RandomForestClassifier()\n",
    "model_tree.fit(X_train_new,y_train)"
   ]
  },
  {
   "cell_type": "code",
   "execution_count": 9,
   "metadata": {},
   "outputs": [
    {
     "data": {
      "text/plain": [
       "LogisticRegression()"
      ]
     },
     "execution_count": 9,
     "metadata": {},
     "output_type": "execute_result"
    }
   ],
   "source": [
    "from sklearn.linear_model import LogisticRegression\n",
    "log=LogisticRegression()\n",
    "log.fit(X_train_new,y_train)"
   ]
  },
  {
   "cell_type": "code",
   "execution_count": 10,
   "metadata": {},
   "outputs": [
    {
     "data": {
      "text/plain": [
       "BaggingClassifier()"
      ]
     },
     "execution_count": 10,
     "metadata": {},
     "output_type": "execute_result"
    }
   ],
   "source": [
    "from sklearn.ensemble import BaggingClassifier\n",
    "model_bag = BaggingClassifier()\n",
    "model_bag.fit(X_train_new,y_train)"
   ]
  },
  {
   "cell_type": "code",
   "execution_count": 11,
   "metadata": {},
   "outputs": [
    {
     "name": "stdout",
     "output_type": "stream",
     "text": [
      "Fitting 10 folds for each of 30 candidates, totalling 300 fits\n"
     ]
    },
    {
     "data": {
      "text/plain": [
       "{'max_features': 7, 'n_estimators': 120}"
      ]
     },
     "execution_count": 11,
     "metadata": {},
     "output_type": "execute_result"
    }
   ],
   "source": [
    "from sklearn.model_selection import GridSearchCV\n",
    "parameters = {\n",
    "'max_features': [2, 3, 4, 5, 6, 7],'n_estimators': [80, 90, 100, 110, 120]\n",
    "}\n",
    "gcv = GridSearchCV(model_bag, parameters, n_jobs=-1, cv=10, verbose=1) \n",
    "gcv.fit(X_train_new, y)\n",
    "gcv.best_params_"
   ]
  },
  {
   "cell_type": "code",
   "execution_count": 12,
   "metadata": {
    "scrolled": true
   },
   "outputs": [
    {
     "data": {
      "text/html": [
       "<div>\n",
       "<style scoped>\n",
       "    .dataframe tbody tr th:only-of-type {\n",
       "        vertical-align: middle;\n",
       "    }\n",
       "\n",
       "    .dataframe tbody tr th {\n",
       "        vertical-align: top;\n",
       "    }\n",
       "\n",
       "    .dataframe thead th {\n",
       "        text-align: right;\n",
       "    }\n",
       "</style>\n",
       "<table border=\"1\" class=\"dataframe\">\n",
       "  <thead>\n",
       "    <tr style=\"text-align: right;\">\n",
       "      <th></th>\n",
       "      <th>model</th>\n",
       "      <th>train</th>\n",
       "      <th>test</th>\n",
       "    </tr>\n",
       "  </thead>\n",
       "  <tbody>\n",
       "    <tr>\n",
       "      <th>0</th>\n",
       "      <td>Random Forest</td>\n",
       "      <td>1.000000</td>\n",
       "      <td>0.857485</td>\n",
       "    </tr>\n",
       "    <tr>\n",
       "      <th>1</th>\n",
       "      <td>Bagging Classifier</td>\n",
       "      <td>0.992415</td>\n",
       "      <td>0.833792</td>\n",
       "    </tr>\n",
       "    <tr>\n",
       "      <th>2</th>\n",
       "      <td>Logistic Regression</td>\n",
       "      <td>0.758201</td>\n",
       "      <td>0.754609</td>\n",
       "    </tr>\n",
       "    <tr>\n",
       "      <th>3</th>\n",
       "      <td>GridSearchCV</td>\n",
       "      <td>1.000000</td>\n",
       "      <td>0.853135</td>\n",
       "    </tr>\n",
       "  </tbody>\n",
       "</table>\n",
       "</div>"
      ],
      "text/plain": [
       "                 model     train      test\n",
       "0        Random Forest  1.000000  0.857485\n",
       "1   Bagging Classifier  0.992415  0.833792\n",
       "2  Logistic Regression  0.758201  0.754609\n",
       "3         GridSearchCV  1.000000  0.853135"
      ]
     },
     "execution_count": 12,
     "metadata": {},
     "output_type": "execute_result"
    }
   ],
   "source": [
    "X_test=df_test.drop('target',axis=1)\n",
    "y_test=df_test.target\n",
    "X_test_new=X_test[X_test.columns[rfe.support_]]\n",
    "#создание датафрейма для сравнения результатов каждой модели\n",
    "df_results=pd.DataFrame()\n",
    "df_results=df_results.append(pd.Series(['Random Forest',roc_auc_score(y_train,model_tree.predict(X_train_new)),roc_auc_score(y_test,model_tree.predict(X_test_new))]),ignore_index=True)\n",
    "df_results=df_results.append(pd.Series(['Bagging Classifier',roc_auc_score(y_train,model_bag.predict(X_train_new)),roc_auc_score(y_test,model_bag.predict(X_test_new))]),ignore_index=True)\n",
    "df_results=df_results.append(pd.Series(['Logistic Regression',roc_auc_score(y_train,log.predict(X_train_new)),roc_auc_score(y_test,log.predict(X_test_new))]),ignore_index=True)\n",
    "df_results=df_results.append(pd.Series(['GridSearchCV',roc_auc_score(y_train,gcv.predict(X_train_new)),roc_auc_score(y_test,gcv.predict(X_test_new))]),ignore_index=True)\n",
    "df_results.columns=['model','train','test']\n",
    "df_results"
   ]
  },
  {
   "cell_type": "markdown",
   "metadata": {},
   "source": [
    "Из результатов видно что Random Forest имеет наиболее высокий балл roc auc "
   ]
  },
  {
   "cell_type": "code",
   "execution_count": null,
   "metadata": {},
   "outputs": [],
   "source": []
  }
 ],
 "metadata": {
  "kernelspec": {
   "display_name": "Python 3",
   "language": "python",
   "name": "python3"
  },
  "language_info": {
   "codemirror_mode": {
    "name": "ipython",
    "version": 3
   },
   "file_extension": ".py",
   "mimetype": "text/x-python",
   "name": "python",
   "nbconvert_exporter": "python",
   "pygments_lexer": "ipython3",
   "version": "3.8.5"
  }
 },
 "nbformat": 4,
 "nbformat_minor": 4
}
